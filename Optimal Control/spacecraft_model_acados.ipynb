{
 "cells": [
  {
   "cell_type": "code",
   "execution_count": 1,
   "id": "69f8b5dc-34f4-4b29-be9c-b0af9088c372",
   "metadata": {},
   "outputs": [],
   "source": [
    "from acados_template import AcadosModel, AcadosOcp, AcadosOcpSolver\n",
    "from casadi import SX, vertcat, cross\n",
    "import numpy as np"
   ]
  },
  {
   "cell_type": "code",
   "execution_count": 2,
   "id": "31b03817-3e1e-4292-8b72-f74450dee89f",
   "metadata": {},
   "outputs": [],
   "source": [
    "Tmax = 0.000953\n",
    "Wmax = 1570.79632679\n",
    "Vmax = 6\n",
    "a_1 = np.array([[1],[0],[0]])\n",
    "a_2 = np.array([[0],[1],[0]])\n",
    "a_3 = np.array([[0],[0],[1]])\n",
    "a_mat = np.concatenate((a_1, a_2, a_3), axis=1)\n",
    "I = np.array([[0.04, 0.00, 0.00],\n",
    "              [0.00, 0.05, 0.02],\n",
    "              [0.00, 0.02, 0.05]])\n",
    "I_inv = np.linalg.inv(I)\n",
    "I_rw = 6.25E-05\n",
    "I_wheels = I_rw*(a_1*np.transpose(a_1) + a_2*np.transpose(a_2) + a_3*np.transpose(a_3))"
   ]
  },
  {
   "cell_type": "code",
   "execution_count": 3,
   "id": "6b379390-622e-4b82-8c12-465a7335ff8a",
   "metadata": {},
   "outputs": [],
   "source": [
    "q = SX.sym(\"q\", 4, 1)\n",
    "w = SX.sym(\"w\", 3, 1)\n",
    "Omega = SX.sym(\"Omega\", 3, 1)\n",
    "V = SX.sym(\"V\", 3, 1)\n",
    "Q = SX.sym(\"Q\", 4, 4)\n",
    "Q[0,0] = 0\n",
    "Q[0,1:] = -w\n",
    "Q[1,1] = 0\n",
    "Q[1:,0] = w\n",
    "Q[1,2] = -w[2]\n",
    "Q[1,3] = w[1]\n",
    "Q[2,2] = 0\n",
    "Q[2,1] = w[2]\n",
    "Q[2,3] = w[0]\n",
    "Q[3,3] = 0\n",
    "Q[3,1] = -w[1]\n",
    "Q[3,2] = w[0]\n",
    "t = SX.sym('t', 1, 1) # Bit of a sketch workaround"
   ]
  },
  {
   "cell_type": "code",
   "execution_count": 5,
   "id": "a1c3ffa8-a036-4e5d-8324-cb7b4dfdcd6e",
   "metadata": {},
   "outputs": [],
   "source": [
    "q_dot = SX.sym(\"q_dot\", 4, 1)\n",
    "w_dot = SX.sym(\"w_dot\", 3, 1)\n",
    "Omega_dot = SX.sym(\"Omega_dot\", 3, 1)\n",
    "t_dot = SX.sym('t_dot', 1, 1) # Bit of a sketch workaround"
   ]
  },
  {
   "cell_type": "code",
   "execution_count": 6,
   "id": "0a2f4e4f-abdc-4c42-a76a-6e4519f2f94e",
   "metadata": {},
   "outputs": [],
   "source": [
    "'''\n",
    "q_dot = (0.5)*(Q@q)\n",
    "w_dot = I_inv@(-(Tmax/Vmax)*a_mat@V + (Tmax/Wmax)*a_mat@Omega\n",
    "               - cross(w, (I@w) + (I_wheels@w) + I_rw*(a_mat@Omega)))\n",
    "Omega_dot = (Tmax/(Vmax*I_rw))*V - (Tmax/(Wmax*I_rw))*Omega - a_mat.T@w\n",
    "'''\n",
    "f_expl = vertcat(\n",
    "                (0.5)*(Q@q),\n",
    "                -(Tmax/Vmax)*a_mat@V + (Tmax/Wmax)*a_mat@Omega - cross(w, (I@w) + (I_wheels@w) + I_rw*(a_mat@Omega)),\n",
    "                (Tmax/(Vmax*I_rw))*V - (Tmax/(Wmax*I_rw))*Omega - a_mat.T@w,\n",
    "                1*V[0]\n",
    "                )\n",
    "x = vertcat(q, w, Omega, t)\n",
    "xdot = vertcat(q_dot, w_dot, Omega_dot, t_dot)\n",
    "u = vertcat(V)\n",
    "f_impl = xdot - f_expl"
   ]
  },
  {
   "cell_type": "code",
   "execution_count": 7,
   "id": "cbac4118-8e86-441e-b639-efda92cc9b68",
   "metadata": {},
   "outputs": [],
   "source": [
    "model = AcadosModel()\n",
    "model.f_impl_expr = f_impl\n",
    "model.f_expl_expr = f_expl\n",
    "model.x = x\n",
    "model.xdot = xdot\n",
    "model.u = u\n",
    "model.name = \"reaction_wheel_spacecraft_model\""
   ]
  },
  {
   "cell_type": "code",
   "execution_count": 19,
   "id": "db9d5cc9-2949-4f59-a303-cf5aa232fd2a",
   "metadata": {},
   "outputs": [],
   "source": [
    "x0 = np.array([1.0, 0.0, 0.0, 0.0, 0.0, 0.0, 0.0, 0.0, 0.0, 0.0, 0.0])\n",
    "xf = np.array([0.7316889, 0.4544258, 0.2272129, 0.4544258, 0.0, 0.0, 0.0, 0.0, 0.0, 0.0, 0.0])\n",
    "\n",
    "ocp = AcadosOcp()\n",
    "ocp.model = model\n",
    "\n",
    "N = 20\n",
    "Tf = 300\n",
    "nx = model.x.size()[0]\n",
    "nu = model.u.size()[0]\n",
    "ny = nx + nu\n",
    "ny_e = nx\n",
    "\n",
    "# set dimensions\n",
    "ocp.dims.N = N\n",
    "\n",
    "# set cost\n",
    "ocp.cost.cost_type = 'EXTERNAL'\n",
    "ocp.cost.cost_type_e = 'EXTERNAL'\n",
    "\n",
    "ocp.model.cost_expr_ext_cost = 0\n",
    "ocp.model.cost_expr_ext_cost_e = t\n",
    "\n",
    "ocp.constraints.lbu = np.array([-6, -6, -6])\n",
    "ocp.constraints.ubu = np.array([+6, +6, +6])\n",
    "ocp.constraints.idxbu = np.array([0, 1, 2])\n",
    "ocp.constraints.x0 = x0\n",
    "ocp.constraints.lbx_e = xf\n",
    "ocp.constraints.ubx_e = xf\n",
    "ocp.constraints.idxbx_e = np.array([0, 1, 2, 3, 4, 5, 6, 7, 8, 9, 0])\n",
    "# set prediction horizon\n",
    "ocp.solver_options.tf = Tf\n",
    "\n",
    "# set options\n",
    "ocp.solver_options.qp_solver = 'FULL_CONDENSING_QPOASES'#'PARTIAL_CONDENSING_HPIPM' # FULL_CONDENSING_QPOASES\n",
    "ocp.solver_options.integrator_type = 'IRK'\n",
    "ocp.solver_options.print_level = 0\n",
    "ocp.solver_options.nlp_solver_type = 'SQP' # SQP_RTI, SQP\n",
    "ocp.solver_options.globalization = 'MERIT_BACKTRACKING'\n",
    "#ocp.solver_options.nlp_solver_max_iter = 5000\n",
    "#ocp.solver_options.nlp_solver_tol_stat = 1e-6\n",
    "#ocp.solver_options.levenberg_marquardt = 0.1\n",
    "#ocp.solver_options.sim_method_num_steps = 15\n",
    "#ocp.solver_options.qp_solver_iter_max = 100"
   ]
  },
  {
   "cell_type": "code",
   "execution_count": 25,
   "id": "104e0b72-630a-4280-beb8-96c198f1faf8",
   "metadata": {},
   "outputs": [
    {
     "name": "stdout",
     "output_type": "stream",
     "text": [
      "\n",
      "WARNING: Gauss-Newton Hessian approximation with EXTERNAL cost type not possible!\n",
      "got cost_type_0: EXTERNAL, hessian_approx: 'GAUSS_NEWTON.'\n",
      "GAUSS_NEWTON hessian is only supported for cost_types [NON]LINEAR_LS.\n",
      "If you continue, acados will proceed computing the exact hessian for the cost term.\n",
      "Note: There is also the option to use the external cost module with a numerical hessian approximation (see `ext_cost_num_hess`).\n",
      "OR the option to provide a symbolic custom hessian approximation (see `cost_expr_ext_cost_custom_hess`).\n",
      "\n",
      "\n",
      "WARNING: Gauss-Newton Hessian approximation with EXTERNAL cost type not possible!\n",
      "got cost_type: EXTERNAL, hessian_approx: 'GAUSS_NEWTON.'\n",
      "GAUSS_NEWTON hessian is only supported for cost_types [NON]LINEAR_LS.\n",
      "If you continue, acados will proceed computing the exact hessian for the cost term.\n",
      "Note: There is also the option to use the external cost module with a numerical hessian approximation (see `ext_cost_num_hess`).\n",
      "OR the option to provide a symbolic custom hessian approximation (see `cost_expr_ext_cost_custom_hess`).\n",
      "\n",
      "\n",
      "WARNING: Gauss-Newton Hessian approximation with EXTERNAL cost type not possible!\n",
      "got cost_type_e: EXTERNAL, hessian_approx: 'GAUSS_NEWTON.'\n",
      "GAUSS_NEWTON hessian is only supported for cost_types [NON]LINEAR_LS.\n",
      "If you continue, acados will proceed computing the exact hessian for the cost term.\n",
      "Note: There is also the option to use the external cost module with a numerical hessian approximation (see `ext_cost_num_hess`).\n",
      "OR the option to provide a symbolic custom hessian approximation (see `cost_expr_ext_cost_custom_hess`).\n",
      "\n",
      "Warning: Please note that the following versions of CasADi are officially supported: 3.6.3 or 3.6.2 or 3.6.1 or 3.5.6 or 3.5.5 or 3.5.4 or 3.5.3 or 3.5.2 or 3.5.1 or 3.4.5 or 3.4.0.\n",
      " If there is an incompatibility with the CasADi generated code, please consider changing your CasADi version.\n",
      "Version 3.6.4 currently in use.\n",
      "rm -f libacados_ocp_solver_pendulum_ode.so\n",
      "rm -f pendulum_ode_cost/pendulum_ode_cost_ext_cost_0_fun.o pendulum_ode_cost/pendulum_ode_cost_ext_cost_0_fun_jac.o pendulum_ode_cost/pendulum_ode_cost_ext_cost_0_fun_jac_hess.o pendulum_ode_cost/pendulum_ode_cost_ext_cost_fun.o pendulum_ode_cost/pendulum_ode_cost_ext_cost_fun_jac.o pendulum_ode_cost/pendulum_ode_cost_ext_cost_fun_jac_hess.o pendulum_ode_cost/pendulum_ode_cost_ext_cost_e_fun.o pendulum_ode_cost/pendulum_ode_cost_ext_cost_e_fun_jac.o pendulum_ode_cost/pendulum_ode_cost_ext_cost_e_fun_jac_hess.o acados_solver_pendulum_ode.o\n",
      "cc -fPIC -std=c99   -O2 -DACADOS_WITH_OSQP -I/home/andrea/git/acados/include -I/home/andrea/git/acados/include/acados -I/home/andrea/git/acados/include/blasfeo/include -I/home/andrea/git/acados/include/hpipm/include  -c -o pendulum_ode_cost/pendulum_ode_cost_ext_cost_0_fun.o pendulum_ode_cost/pendulum_ode_cost_ext_cost_0_fun.c\n",
      "cc -fPIC -std=c99   -O2 -DACADOS_WITH_OSQP -I/home/andrea/git/acados/include -I/home/andrea/git/acados/include/acados -I/home/andrea/git/acados/include/blasfeo/include -I/home/andrea/git/acados/include/hpipm/include  -c -o pendulum_ode_cost/pendulum_ode_cost_ext_cost_0_fun_jac.o pendulum_ode_cost/pendulum_ode_cost_ext_cost_0_fun_jac.c\n",
      "cc -fPIC -std=c99   -O2 -DACADOS_WITH_OSQP -I/home/andrea/git/acados/include -I/home/andrea/git/acados/include/acados -I/home/andrea/git/acados/include/blasfeo/include -I/home/andrea/git/acados/include/hpipm/include  -c -o pendulum_ode_cost/pendulum_ode_cost_ext_cost_0_fun_jac_hess.o pendulum_ode_cost/pendulum_ode_cost_ext_cost_0_fun_jac_hess.c\n",
      "cc -fPIC -std=c99   -O2 -DACADOS_WITH_OSQP -I/home/andrea/git/acados/include -I/home/andrea/git/acados/include/acados -I/home/andrea/git/acados/include/blasfeo/include -I/home/andrea/git/acados/include/hpipm/include  -c -o pendulum_ode_cost/pendulum_ode_cost_ext_cost_fun.o pendulum_ode_cost/pendulum_ode_cost_ext_cost_fun.c\n",
      "cc -fPIC -std=c99   -O2 -DACADOS_WITH_OSQP -I/home/andrea/git/acados/include -I/home/andrea/git/acados/include/acados -I/home/andrea/git/acados/include/blasfeo/include -I/home/andrea/git/acados/include/hpipm/include  -c -o pendulum_ode_cost/pendulum_ode_cost_ext_cost_fun_jac.o pendulum_ode_cost/pendulum_ode_cost_ext_cost_fun_jac.c\n",
      "cc -fPIC -std=c99   -O2 -DACADOS_WITH_OSQP -I/home/andrea/git/acados/include -I/home/andrea/git/acados/include/acados -I/home/andrea/git/acados/include/blasfeo/include -I/home/andrea/git/acados/include/hpipm/include  -c -o pendulum_ode_cost/pendulum_ode_cost_ext_cost_fun_jac_hess.o pendulum_ode_cost/pendulum_ode_cost_ext_cost_fun_jac_hess.c\n",
      "cc -fPIC -std=c99   -O2 -DACADOS_WITH_OSQP -I/home/andrea/git/acados/include -I/home/andrea/git/acados/include/acados -I/home/andrea/git/acados/include/blasfeo/include -I/home/andrea/git/acados/include/hpipm/include  -c -o pendulum_ode_cost/pendulum_ode_cost_ext_cost_e_fun.o pendulum_ode_cost/pendulum_ode_cost_ext_cost_e_fun.c\n",
      "cc -fPIC -std=c99   -O2 -DACADOS_WITH_OSQP -I/home/andrea/git/acados/include -I/home/andrea/git/acados/include/acados -I/home/andrea/git/acados/include/blasfeo/include -I/home/andrea/git/acados/include/hpipm/include  -c -o pendulum_ode_cost/pendulum_ode_cost_ext_cost_e_fun_jac.o pendulum_ode_cost/pendulum_ode_cost_ext_cost_e_fun_jac.c\n",
      "cc -fPIC -std=c99   -O2 -DACADOS_WITH_OSQP -I/home/andrea/git/acados/include -I/home/andrea/git/acados/include/acados -I/home/andrea/git/acados/include/blasfeo/include -I/home/andrea/git/acados/include/hpipm/include  -c -o pendulum_ode_cost/pendulum_ode_cost_ext_cost_e_fun_jac_hess.o pendulum_ode_cost/pendulum_ode_cost_ext_cost_e_fun_jac_hess.c\n",
      "cc -fPIC -std=c99   -O2 -DACADOS_WITH_OSQP -I/home/andrea/git/acados/include -I/home/andrea/git/acados/include/acados -I/home/andrea/git/acados/include/blasfeo/include -I/home/andrea/git/acados/include/hpipm/include  -c -o acados_solver_pendulum_ode.o acados_solver_pendulum_ode.c\n",
      "cc -fPIC -std=c99   -O2 -DACADOS_WITH_OSQP -I/home/andrea/git/acados/include -I/home/andrea/git/acados/include/acados -I/home/andrea/git/acados/include/blasfeo/include -I/home/andrea/git/acados/include/hpipm/include  -c -o pendulum_ode_model/pendulum_ode_impl_dae_fun.o pendulum_ode_model/pendulum_ode_impl_dae_fun.c\n",
      "cc -fPIC -std=c99   -O2 -DACADOS_WITH_OSQP -I/home/andrea/git/acados/include -I/home/andrea/git/acados/include/acados -I/home/andrea/git/acados/include/blasfeo/include -I/home/andrea/git/acados/include/hpipm/include  -c -o pendulum_ode_model/pendulum_ode_impl_dae_fun_jac_x_xdot_z.o pendulum_ode_model/pendulum_ode_impl_dae_fun_jac_x_xdot_z.c\n",
      "cc -fPIC -std=c99   -O2 -DACADOS_WITH_OSQP -I/home/andrea/git/acados/include -I/home/andrea/git/acados/include/acados -I/home/andrea/git/acados/include/blasfeo/include -I/home/andrea/git/acados/include/hpipm/include  -c -o pendulum_ode_model/pendulum_ode_impl_dae_jac_x_xdot_u_z.o pendulum_ode_model/pendulum_ode_impl_dae_jac_x_xdot_u_z.c\n",
      "cc -shared pendulum_ode_cost/pendulum_ode_cost_ext_cost_0_fun.o pendulum_ode_cost/pendulum_ode_cost_ext_cost_0_fun_jac.o pendulum_ode_cost/pendulum_ode_cost_ext_cost_0_fun_jac_hess.o pendulum_ode_cost/pendulum_ode_cost_ext_cost_fun.o pendulum_ode_cost/pendulum_ode_cost_ext_cost_fun_jac.o pendulum_ode_cost/pendulum_ode_cost_ext_cost_fun_jac_hess.o pendulum_ode_cost/pendulum_ode_cost_ext_cost_e_fun.o pendulum_ode_cost/pendulum_ode_cost_ext_cost_e_fun_jac.o pendulum_ode_cost/pendulum_ode_cost_ext_cost_e_fun_jac_hess.o acados_solver_pendulum_ode.o pendulum_ode_model/pendulum_ode_impl_dae_fun.o pendulum_ode_model/pendulum_ode_impl_dae_fun_jac_x_xdot_z.o pendulum_ode_model/pendulum_ode_impl_dae_jac_x_xdot_u_z.o -o libacados_ocp_solver_pendulum_ode.so -L/home/andrea/git/acados/lib -lacados -lhpipm -lblasfeo -lm \\\n",
      "-L -l\n",
      "acados was compiled with OpenMP.\n",
      "\n",
      "iter\tres_stat\tres_eq\t\tres_ineq\tres_comp\tqp_stat\tqp_iter\talpha\n",
      "0\t1.000000e+00\t1.500000e+01\t6.000000e+00\t0.000000e+00\t0\t0\t0.000000e+00\t\n",
      "1\t0.000000e+00\t0.000000e+00\t0.000000e+00\t0.000000e+00\t36\t50\t0.000000e+00\t\n",
      "\n",
      "\n"
     ]
    },
    {
     "ename": "Exception",
     "evalue": "acados returned status 4.",
     "output_type": "error",
     "traceback": [
      "\u001b[0;31m---------------------------------------------------------------------------\u001b[0m",
      "\u001b[0;31mException\u001b[0m                                 Traceback (most recent call last)",
      "Cell \u001b[0;32mIn[25], line 14\u001b[0m\n\u001b[1;32m     11\u001b[0m ocp_solver\u001b[38;5;241m.\u001b[39mprint_statistics() \u001b[38;5;66;03m# encapsulates: stat = ocp_solver.get_stats(\"statistics\")\u001b[39;00m\n\u001b[1;32m     13\u001b[0m \u001b[38;5;28;01mif\u001b[39;00m status \u001b[38;5;241m!=\u001b[39m \u001b[38;5;241m0\u001b[39m:\n\u001b[0;32m---> 14\u001b[0m     \u001b[38;5;28;01mraise\u001b[39;00m \u001b[38;5;167;01mException\u001b[39;00m(\u001b[38;5;124mf\u001b[39m\u001b[38;5;124m'\u001b[39m\u001b[38;5;124macados returned status \u001b[39m\u001b[38;5;132;01m{\u001b[39;00mstatus\u001b[38;5;132;01m}\u001b[39;00m\u001b[38;5;124m.\u001b[39m\u001b[38;5;124m'\u001b[39m)\n",
      "\u001b[0;31mException\u001b[0m: acados returned status 4."
     ]
    }
   ],
   "source": [
    "ocp_solver = AcadosOcpSolver(ocp)\n",
    "\n",
    "simX = np.ndarray((N+1, nx))\n",
    "simU = np.ndarray((N, nu))\n",
    "\n",
    "# for i, tau in enumerate(np.linspace(0, 1, N)):\n",
    "#     ocp_solver.set(i, 'x', (1-tau)*x0 + tau*xf)\n",
    "#     ocp_solver.set(i, 'u', np.array([0.1, 0.5]))\n",
    "\n",
    "status = ocp_solver.solve()\n",
    "ocp_solver.print_statistics() # encapsulates: stat = ocp_solver.get_stats(\"statistics\")\n",
    "\n",
    "if status != 0:\n",
    "    raise Exception(f'acados returned status {status}.')\n",
    "\n"
   ]
  },
  {
   "cell_type": "code",
   "execution_count": 12,
   "id": "cbbc0f5a-34b4-4bbd-a575-064c57068451",
   "metadata": {},
   "outputs": [
    {
     "data": {
      "text/plain": [
       "11"
      ]
     },
     "execution_count": 12,
     "metadata": {},
     "output_type": "execute_result"
    }
   ],
   "source": [
    "ocp.constraints.lbx_e.shape[0]"
   ]
  },
  {
   "cell_type": "code",
   "execution_count": 13,
   "id": "ff6a5810-8738-408a-a4f1-dded964ab137",
   "metadata": {},
   "outputs": [
    {
     "data": {
      "text/plain": [
       "11"
      ]
     },
     "execution_count": 13,
     "metadata": {},
     "output_type": "execute_result"
    }
   ],
   "source": [
    "ocp.constraints.ubx_e.shape[0]"
   ]
  },
  {
   "cell_type": "code",
   "execution_count": 23,
   "id": "2c708110-59d6-49b1-9c94-377cf2382351",
   "metadata": {},
   "outputs": [
    {
     "data": {
      "text/plain": [
       "SX([V_0, V_1, V_2])"
      ]
     },
     "execution_count": 23,
     "metadata": {},
     "output_type": "execute_result"
    }
   ],
   "source": [
    "u"
   ]
  },
  {
   "cell_type": "code",
   "execution_count": 24,
   "id": "7900ea6b-e2e0-4051-b09a-19a566e8fef4",
   "metadata": {},
   "outputs": [
    {
     "data": {
      "text/plain": [
       "SX([q_dot_0, q_dot_1, q_dot_2, q_dot_3, w_dot_0, w_dot_1, w_dot_2, Omega_dot_0, Omega_dot_1, Omega_dot_2, dt])"
      ]
     },
     "execution_count": 24,
     "metadata": {},
     "output_type": "execute_result"
    }
   ],
   "source": [
    "xdot"
   ]
  },
  {
   "cell_type": "code",
   "execution_count": 25,
   "id": "1da1a12c-8fbb-4160-b699-517a149f4ebd",
   "metadata": {},
   "outputs": [
    {
     "data": {
      "text/plain": [
       "SX([q_0, q_1, q_2, q_3, w_0, w_1, w_2, Omega_0, Omega_1, Omega_2, t])"
      ]
     },
     "execution_count": 25,
     "metadata": {},
     "output_type": "execute_result"
    }
   ],
   "source": [
    "x"
   ]
  },
  {
   "cell_type": "code",
   "execution_count": 26,
   "id": "1a8b41b2-e34f-4401-b57b-2c84979351bc",
   "metadata": {},
   "outputs": [
    {
     "data": {
      "text/plain": [
       "SX(@1=0.5, @2=-0.000158833, @3=6.06699e-07, @4=0.02, @5=0.05, @6=6.25e-05, @7=((((@4*w_1)+(@5*w_2))+(@6*w_2))+(@6*Omega_2)), @8=((((@5*w_1)+(@4*w_2))+(@6*w_1))+(@6*Omega_1)), @9=(((0.04*w_0)+(@6*w_0))+(@6*Omega_0)), @10=2.54133, @11=0.00970718, [(-(@1*(((w_0*q_1)+(w_1*q_2))+(w_2*q_3)))), (@1*(((w_0*q_0)-(w_2*q_2))+(w_1*q_3))), (@1*(((w_1*q_0)+(w_2*q_1))+(w_0*q_3))), (@1*(((w_2*q_0)-(w_1*q_1))+(w_0*q_2))), (((@2*V_0)+(@3*Omega_0))-((w_1*@7)-(w_2*@8))), (((@2*V_1)+(@3*Omega_1))-((w_2*@9)-(w_0*@7))), (((@2*V_2)+(@3*Omega_2))-((w_0*@8)-(w_1*@9))), (((@10*V_0)-(@11*Omega_0))-w_0), (((@10*V_1)-(@11*Omega_1))-w_1), (((@10*V_2)-(@11*Omega_2))-w_2), V_0])"
      ]
     },
     "execution_count": 26,
     "metadata": {},
     "output_type": "execute_result"
    }
   ],
   "source": [
    "f_expl"
   ]
  },
  {
   "cell_type": "code",
   "execution_count": 4,
   "id": "13b24597-8eef-40e6-b6fd-6bad839323a8",
   "metadata": {},
   "outputs": [],
   "source": [
    "model_name = 'pendulum_ode'\n",
    "\n",
    "# constants\n",
    "M = 1. # mass of the cart [kg] -> now estimated\n",
    "m = 0.1 # mass of the ball [kg]\n",
    "g = 9.81 # gravity constant [m/s^2]\n",
    "l = 0.8 # length of the rod [m]\n",
    "\n",
    "# set up states & controls\n",
    "x1      = SX.sym('x1')\n",
    "theta   = SX.sym('theta')\n",
    "v1      = SX.sym('v1')\n",
    "dtheta  = SX.sym('dtheta')\n",
    "t       = SX.sym('t')\n",
    "\n",
    "x = vertcat(x1, theta, v1, dtheta, t)\n",
    "\n",
    "F = SX.sym('F')\n",
    "u = vertcat(F)\n",
    "\n",
    "# xdot\n",
    "x1_dot      = SX.sym('x1_dot')\n",
    "theta_dot   = SX.sym('theta_dot')\n",
    "v1_dot      = SX.sym('v1_dot')\n",
    "dtheta_dot  = SX.sym('dtheta_dot')\n",
    "dt          = SX.sym('dt')\n",
    "\n",
    "xdot = vertcat(x1_dot, theta_dot, v1_dot, dtheta_dot, dt)\n",
    "\n",
    "# dynamics\n",
    "cos_theta = cos(theta)\n",
    "sin_theta = sin(theta)\n",
    "denominator = M + m - m*cos_theta*cos_theta\n",
    "f_expl = vertcat(v1,\n",
    "                 dtheta,\n",
    "                 (-m*l*sin_theta*dtheta*dtheta + m*g*cos_theta*sin_theta+F)/denominator,\n",
    "                 (-m*l*cos_theta*sin_theta*dtheta*dtheta + F*cos_theta+(M+m)*g*sin_theta)/(l*denominator),\n",
    "                 1\n",
    "                 )\n",
    "\n",
    "f_impl = xdot - f_expl\n",
    "\n",
    "model = AcadosModel()\n",
    "\n",
    "model.f_impl_expr = f_impl\n",
    "model.f_expl_expr = f_expl\n",
    "model.x = x\n",
    "model.xdot = xdot\n",
    "model.u = u\n",
    "model.name = model_name"
   ]
  },
  {
   "cell_type": "code",
   "execution_count": 24,
   "id": "5e1b8341-df0f-43a8-9d2c-947b4fddbda5",
   "metadata": {},
   "outputs": [],
   "source": [
    "x0 = np.array([0.0, 0, 0.0, 0.0, 0.0])\n",
    "xf = np.array([0.7316889, 0.4544258, 0.2272129, 0.4544258])\n",
    "\n",
    "ocp = AcadosOcp()\n",
    "ocp.model = model\n",
    "\n",
    "N = 20\n",
    "Tf = 300\n",
    "nx = model.x.size()[0]\n",
    "nu = model.u.size()[0]\n",
    "ny = nx + nu\n",
    "ny_e = nx\n",
    "\n",
    "# set dimensions\n",
    "ocp.dims.N = N\n",
    "\n",
    "# set cost\n",
    "ocp.cost.cost_type = 'EXTERNAL'\n",
    "ocp.cost.cost_type_e = 'EXTERNAL'\n",
    "\n",
    "ocp.model.cost_expr_ext_cost = 0\n",
    "ocp.model.cost_expr_ext_cost_e = t\n",
    "\n",
    "ocp.constraints.lbu = np.array([-6])\n",
    "ocp.constraints.ubu = np.array([+6])\n",
    "ocp.constraints.idxbu = np.array([0])\n",
    "ocp.constraints.x0 = x0\n",
    "ocp.constraints.lbx_e = np.array([0, 0, 0, 0, 0])\n",
    "ocp.constraints.ubx_e = np.array([0, 0, 0, 0, 0])\n",
    "ocp.constraints.idxbx_e = np.array([0, 1, 2, 3, 4])\n",
    "# set prediction horizon\n",
    "ocp.solver_options.tf = Tf\n",
    "\n",
    "# set options\n",
    "ocp.solver_options.qp_solver = 'PARTIAL_CONDENSING_OSQP'#'PARTIAL_CONDENSING_HPIPM' # FULL_CONDENSING_QPOASES\n",
    "ocp.solver_options.integrator_type = 'IRK'\n",
    "ocp.solver_options.print_level = 0\n",
    "ocp.solver_options.nlp_solver_type = 'SQP' # SQP_RTI, SQP\n",
    "ocp.solver_options.globalization = 'MERIT_BACKTRACKING'\n",
    "#ocp.solver_options.nlp_solver_max_iter = 5000\n",
    "#ocp.solver_options.nlp_solver_tol_stat = 1e-6\n",
    "#ocp.solver_options.levenberg_marquardt = 0.1\n",
    "#ocp.solver_options.sim_method_num_steps = 15\n",
    "#ocp.solver_options.qp_solver_iter_max = 100"
   ]
  },
  {
   "cell_type": "code",
   "execution_count": null,
   "id": "3f69dfeb-2dcd-4b98-9668-558431e33646",
   "metadata": {},
   "outputs": [],
   "source": []
  }
 ],
 "metadata": {
  "kernelspec": {
   "display_name": "Python 3 (ipykernel)",
   "language": "python",
   "name": "python3"
  },
  "language_info": {
   "codemirror_mode": {
    "name": "ipython",
    "version": 3
   },
   "file_extension": ".py",
   "mimetype": "text/x-python",
   "name": "python",
   "nbconvert_exporter": "python",
   "pygments_lexer": "ipython3",
   "version": "3.12.0"
  }
 },
 "nbformat": 4,
 "nbformat_minor": 5
}
