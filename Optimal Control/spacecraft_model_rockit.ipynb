{
 "cells": [
  {
   "cell_type": "code",
   "execution_count": null,
   "id": "f50c2cd6-16c5-4368-825d-fe1dfc3323e5",
   "metadata": {},
   "outputs": [],
   "source": [
    "from rockit import *\n",
    "# from casadi import SX, MX, vertcat, cross, fabs, norm_2\n",
    "import casadi as ca\n",
    "import numpy as np\n",
    "import matplotlib.pyplot as plt\n",
    "import matplotlib\n",
    "from pyquaternion import Quaternion"
   ]
  },
  {
   "cell_type": "code",
   "execution_count": null,
   "id": "8a019eed-8c31-42c8-8dd1-8fe0b102f8e1",
   "metadata": {},
   "outputs": [],
   "source": [
    "ocp = Ocp(t0=0, T=FreeTime(100))"
   ]
  },
  {
   "cell_type": "code",
   "execution_count": null,
   "id": "188d4320-d70e-431a-add3-0ba541c0491a",
   "metadata": {},
   "outputs": [],
   "source": [
    "Tmax = 0.000953\n",
    "Wmax = 1570.79632679\n",
    "Vmax = 6\n",
    "a_1 = np.array([[1],[0],[0]])\n",
    "a_2 = np.array([[0],[1],[0]])\n",
    "a_3 = np.array([[0],[0],[1]])\n",
    "a_mat = np.concatenate((a_1, a_2, a_3), axis=1)\n",
    "I = np.array([[0.04, 0.00, 0.00],\n",
    "              [0.00, 0.05, 0.02],\n",
    "              [0.00, 0.02, 0.05]])\n",
    "I_inv = np.linalg.inv(I)\n",
    "I_rw = 6.25E-05\n",
    "I_wheels = I_rw*(a_1*np.transpose(a_1) + a_2*np.transpose(a_2) + a_3*np.transpose(a_3))"
   ]
  },
  {
   "cell_type": "code",
   "execution_count": null,
   "id": "6eb23886-f283-416c-af12-5c64777e97ee",
   "metadata": {},
   "outputs": [],
   "source": [
    "q = ocp.state(4)\n",
    "w = ocp.state(3)\n",
    "Omega = ocp.state(3)\n",
    "V = ocp.control(3)\n",
    "# Q = ocp.algebraic(4, 4)\n",
    "# Q[0,0] = 0\n",
    "# Q[0,1] = -w[0]\n",
    "# Q[0,2] = -w[1]\n",
    "# Q[0,3] = -w[2]\n",
    "\n",
    "# Q[1,0] = w[0]\n",
    "# Q[1,1] = 0\n",
    "# Q[1,2] = -w[2]\n",
    "# Q[1,3] = w[1]\n",
    "\n",
    "# Q[2,0] = w[1]\n",
    "# Q[2,1] = w[2]\n",
    "# Q[2,2] = 0\n",
    "# Q[2,3] = w[0]\n",
    "\n",
    "# Q[3,0] = w[2]\n",
    "# Q[3,1] = -w[1]\n",
    "# Q[3,2] = w[0]\n",
    "# Q[3,3] = 0"
   ]
  },
  {
   "cell_type": "code",
   "execution_count": null,
   "id": "ea64e298-1959-4eca-a70a-96426ec156d9",
   "metadata": {},
   "outputs": [],
   "source": [
    "# Assign derivatives\n",
    "\n",
    "ocp.set_der(q, ca.vertcat(\n",
    "    -w[0]*q[1]-w[1]*q[2]-w[2]*q[3],\n",
    "    w[0]*q[0] +w[1]*q[3]-w[2]*q[2],\n",
    "    -w[0]*q[3]+w[1]*q[0]+w[2]*q[1],\n",
    "    w[0]*q[2] -w[1]*q[1]+w[2]*q[0]\n",
    "))\n",
    "# ocp.set_der(q[0], -w[0]*q[1]-w[1]*q[2]-w[2]*q[3])\n",
    "ocp.set_der(w, -(Tmax/Vmax)*a_mat@V + (Tmax/Wmax)*a_mat@Omega - ca.cross(w, (I@w) + (I_wheels@w) + I_rw*(a_mat@Omega)))\n",
    "ocp.set_der(Omega, (Tmax/(Vmax*I_rw))*V - (Tmax/(Wmax*I_rw))*Omega - a_mat.T@w)"
   ]
  },
  {
   "cell_type": "code",
   "execution_count": null,
   "id": "90ee2b19-38ac-459b-ac4f-cf7b31bc5500",
   "metadata": {},
   "outputs": [],
   "source": [
    "# Constraints\n",
    "\n",
    "ocp.subject_to(q[0]**2 + q[1]**2 + q[2]**2 + q[3]**2 == 1)\n",
    "ocp.subject_to(-6 <= (V[0] <= 6))\n",
    "ocp.subject_to(-6 <= (V[1] <= 6))\n",
    "ocp.subject_to(-6 <= (V[2] <= 6))"
   ]
  },
  {
   "cell_type": "code",
   "execution_count": null,
   "id": "c7925dde-486d-47ea-9285-94655623589b",
   "metadata": {},
   "outputs": [],
   "source": [
    "# Boundary conditions\n",
    "\n",
    "ocp.subject_to(ocp.at_t0(q) == np.array([1,0.0,0.0,0.0]))\n",
    "# ocp.subject_to(ocp.at_tf(q) == np.array([-0.0434363, -0.5855824, -0.7539713, -0.2945059]))\n",
    "ocp.subject_to(ca.norm_2(ocp.at_tf(q) - np.array([-0.0434363, -0.5855824, -0.7539713, -0.2945059])) <= 1e-5)\n",
    "\n",
    "# ocp.subject_to(ocp.at_tf(q) == np.array([-4.34362998e-02, -5.85582404e-01, -7.53971357e-01, -2.94505902e-01]))\n",
    "\n",
    "ocp.subject_to(ocp.at_t0(w) == np.array([0,0.0,0.0]))\n",
    "ocp.subject_to(ocp.at_tf(w) == np.array([0,0.0,0.0]))\n",
    "\n",
    "ocp.subject_to(ocp.at_t0(Omega) == np.array([0,0.0,0.0]))\n",
    "ocp.subject_to(ocp.at_tf(Omega) == np.array([0,0.0,0.0]))"
   ]
  },
  {
   "cell_type": "code",
   "execution_count": null,
   "id": "c28003d4-4c33-439f-9f3a-81c47b71bb40",
   "metadata": {},
   "outputs": [],
   "source": [
    "ocp.add_objective(ocp.T)"
   ]
  },
  {
   "cell_type": "code",
   "execution_count": null,
   "id": "38d0228e-34b3-48df-94f2-2a8ea7250bb3",
   "metadata": {},
   "outputs": [],
   "source": [
    "# ocp.solver('ipopt', {\"ipopt\": {\"max_iter\": 3000}})\n",
    "ocp.solver('ipopt', {\"ipopt\": {\"max_iter\": 500, \"mu_init\": 1e-3}})\n",
    "\n",
    "method = SingleShooting(N=200, intg='rk')\n",
    "ocp.method(method)"
   ]
  },
  {
   "cell_type": "code",
   "execution_count": null,
   "id": "74fbf138-4720-4898-90ec-2686a19f9f31",
   "metadata": {},
   "outputs": [],
   "source": [
    "sol = ocp.solve()"
   ]
  },
  {
   "cell_type": "code",
   "execution_count": null,
   "id": "69f69b02-8ef9-4faf-a6b4-7fc33c69c61d",
   "metadata": {},
   "outputs": [],
   "source": [
    "sol = ocp.non_converged_solution"
   ]
  },
  {
   "cell_type": "code",
   "execution_count": null,
   "id": "d73c3bc6-f7ff-4c7d-94b2-8ba62ab5477e",
   "metadata": {},
   "outputs": [],
   "source": [
    "%matplotlib inline\n",
    "\n",
    "ocp.spy()"
   ]
  },
  {
   "cell_type": "code",
   "execution_count": null,
   "id": "68794eb4-fd04-437c-86aa-01d9a8b38fbe",
   "metadata": {},
   "outputs": [],
   "source": [
    "tsa, qa = sol.sample(q, grid='control')\n",
    "# tsb, x1b = sol.sample(x1, grid='integrator')\n",
    "# tsc, x1c = sol.sample(x1, grid='integrator', refine=100)\n",
    "# plot(tsa, x1a, '-')\n",
    "# plot(tsb, x1b, 'o')\n",
    "# plot(tsc, x1c, '.')\n",
    "qa[-1] # -4.34362998e-02, -5.85582404e-01, -7.53971357e-01, -2.94505902e-01"
   ]
  },
  {
   "cell_type": "code",
   "execution_count": null,
   "id": "d70e0261",
   "metadata": {},
   "outputs": [],
   "source": [
    "%matplotlib inline\n",
    "plt.title('Quaternion vector')\n",
    "plt.plot(tsa, qa[:,0], 'r', label='q1')\n",
    "plt.plot(tsa, qa[:,1], 'g', label='q2')\n",
    "plt.plot(tsa, qa[:,2], 'b', label='q3')\n",
    "plt.plot(tsa, qa[:,3], 'tab:orange', label='q4')\n",
    "plt.legend()\n",
    "plt.show()"
   ]
  },
  {
   "cell_type": "code",
   "execution_count": null,
   "id": "92822b24",
   "metadata": {},
   "outputs": [],
   "source": [
    "tsb, Vb = sol.sample(V, grid='control')"
   ]
  },
  {
   "cell_type": "code",
   "execution_count": null,
   "id": "fb01b4bc",
   "metadata": {},
   "outputs": [],
   "source": [
    "%matplotlib inline\n",
    "plt.title(\"Reaction wheel voltages\")\n",
    "plt.plot(tsb, Vb[:,0], 'r', label=\"Wheel 1\")\n",
    "plt.plot(tsb, Vb[:,1], 'g', label=\"Wheel 2\")\n",
    "plt.plot(tsb, Vb[:,2], 'b', label=\"Wheel 1\")\n",
    "plt.legend()\n",
    "plt.show()"
   ]
  },
  {
   "cell_type": "code",
   "execution_count": null,
   "id": "ce37941f",
   "metadata": {},
   "outputs": [],
   "source": [
    "tsc, wc = sol.sample(w, grid='control')"
   ]
  },
  {
   "cell_type": "code",
   "execution_count": null,
   "id": "85331041",
   "metadata": {},
   "outputs": [],
   "source": [
    "%matplotlib notebook\n",
    "plt.plot(tsc, wc[:,0], 'r')\n",
    "plt.plot(tsc, wc[:,1], 'g')\n",
    "plt.plot(tsc, wc[:,2], 'b')\n",
    "plt.show()"
   ]
  },
  {
   "cell_type": "code",
   "execution_count": null,
   "id": "cc3879d4",
   "metadata": {},
   "outputs": [],
   "source": [
    "tsd, Omegad = sol.sample(Omega, grid='control')"
   ]
  },
  {
   "cell_type": "code",
   "execution_count": null,
   "id": "2e1960c6",
   "metadata": {},
   "outputs": [],
   "source": [
    "%matplotlib inline\n",
    "plt.title(\"Reaction wheel velocities (rad/s)\")\n",
    "plt.plot(tsd, Omegad[:,0], 'r', label=\"Wheel 1\")\n",
    "plt.plot(tsd, Omegad[:,1], 'g', label=\"Wheel 2\")\n",
    "plt.plot(tsd, Omegad[:,2], 'b', label=\"Wheel 3\")\n",
    "plt.legend()\n",
    "plt.show()"
   ]
  },
  {
   "cell_type": "code",
   "execution_count": null,
   "id": "e648c9b6",
   "metadata": {},
   "outputs": [],
   "source": [
    "quat_desired = Quaternion(np.array([-0.0434363, -0.5855824, -0.7539713, -0.2945059]))"
   ]
  },
  {
   "cell_type": "code",
   "execution_count": null,
   "id": "d8d64da0",
   "metadata": {},
   "outputs": [],
   "source": [
    "err = []\n",
    "for quat in qa:\n",
    "    quat_cur = Quaternion(quat)\n",
    "    err.append(2*np.arccos((quat_cur.conjugate*quat_desired).real)*180/np.pi)"
   ]
  },
  {
   "cell_type": "code",
   "execution_count": null,
   "id": "b9735925",
   "metadata": {},
   "outputs": [],
   "source": [
    "%matplotlib inline\n",
    "plt.plot(tsa, err)\n",
    "plt.title(\"Euler error (deg)\")\n",
    "plt.plot()"
   ]
  },
  {
   "cell_type": "code",
   "execution_count": null,
   "id": "68dca69e",
   "metadata": {},
   "outputs": [],
   "source": []
  },
  {
   "cell_type": "code",
   "execution_count": null,
   "id": "aca2bfc9",
   "metadata": {},
   "outputs": [],
   "source": []
  },
  {
   "cell_type": "code",
   "execution_count": null,
   "id": "56b1f071",
   "metadata": {},
   "outputs": [],
   "source": []
  }
 ],
 "metadata": {
  "kernelspec": {
   "display_name": "Python 3 (ipykernel)",
   "language": "python",
   "name": "python3"
  },
  "language_info": {
   "codemirror_mode": {
    "name": "ipython",
    "version": 3
   },
   "file_extension": ".py",
   "mimetype": "text/x-python",
   "name": "python",
   "nbconvert_exporter": "python",
   "pygments_lexer": "ipython3",
   "version": "3.11.7"
  }
 },
 "nbformat": 4,
 "nbformat_minor": 5
}
